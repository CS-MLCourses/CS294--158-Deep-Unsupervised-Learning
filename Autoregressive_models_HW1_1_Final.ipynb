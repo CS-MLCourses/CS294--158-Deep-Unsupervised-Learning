{
  "nbformat": 4,
  "nbformat_minor": 0,
  "metadata": {
    "colab": {
      "name": "Autoregressive_models_HW1_1_Final.ipynb",
      "provenance": [],
      "collapsed_sections": [],
      "include_colab_link": true
    },
    "kernelspec": {
      "name": "python3",
      "display_name": "Python 3"
    },
    "accelerator": "GPU"
  },
  "cells": [
    {
      "cell_type": "markdown",
      "metadata": {
        "id": "view-in-github",
        "colab_type": "text"
      },
      "source": [
        "<a href=\"https://colab.research.google.com/github/nerdk312/CS294--158-Deep-Unsupervised-Learning/blob/master/Autoregressive_models_HW1_1_Final.ipynb\" target=\"_parent\"><img src=\"https://colab.research.google.com/assets/colab-badge.svg\" alt=\"Open In Colab\"/></a>"
      ]
    },
    {
      "cell_type": "markdown",
      "metadata": {
        "id": "v0KAInywQBmg",
        "colab_type": "text"
      },
      "source": [
        "Based on solution from:\n",
        "https://github.com/davidsandberg/unsupervised/blob/master/HW1/HW1_1.ipynb"
      ]
    },
    {
      "cell_type": "code",
      "metadata": {
        "id": "mJ6EfOd2StSb",
        "colab_type": "code",
        "outputId": "004b43bd-219e-49a8-b5c1-019793995c5d",
        "colab": {
          "base_uri": "https://localhost:8080/",
          "height": 1000
        }
      },
      "source": [
        "!pip uninstall tensorflow\n",
        "!pip install tensorflow"
      ],
      "execution_count": 1,
      "outputs": [
        {
          "output_type": "stream",
          "text": [
            "Uninstalling tensorflow-1.15.0:\n",
            "  Would remove:\n",
            "    /usr/local/bin/estimator_ckpt_converter\n",
            "    /usr/local/bin/freeze_graph\n",
            "    /usr/local/bin/saved_model_cli\n",
            "    /usr/local/bin/tensorboard\n",
            "    /usr/local/bin/tf_upgrade_v2\n",
            "    /usr/local/bin/tflite_convert\n",
            "    /usr/local/bin/toco\n",
            "    /usr/local/bin/toco_from_protos\n",
            "    /usr/local/lib/python3.6/dist-packages/tensorflow-1.15.0.dist-info/*\n",
            "    /usr/local/lib/python3.6/dist-packages/tensorflow/*\n",
            "    /usr/local/lib/python3.6/dist-packages/tensorflow_core/*\n",
            "Proceed (y/n)? y\n",
            "  Successfully uninstalled tensorflow-1.15.0\n",
            "Collecting tensorflow\n",
            "\u001b[?25l  Downloading https://files.pythonhosted.org/packages/46/0f/7bd55361168bb32796b360ad15a25de6966c9c1beb58a8e30c01c8279862/tensorflow-2.0.0-cp36-cp36m-manylinux2010_x86_64.whl (86.3MB)\n",
            "\u001b[K     |████████████████████████████████| 86.3MB 39kB/s \n",
            "\u001b[?25hRequirement already satisfied: grpcio>=1.8.6 in /usr/local/lib/python3.6/dist-packages (from tensorflow) (1.15.0)\n",
            "Requirement already satisfied: absl-py>=0.7.0 in /usr/local/lib/python3.6/dist-packages (from tensorflow) (0.8.1)\n",
            "Collecting tensorboard<2.1.0,>=2.0.0\n",
            "\u001b[?25l  Downloading https://files.pythonhosted.org/packages/d3/9e/a48cd34dd7b672ffc227b566f7d16d63c62c58b542d54efa45848c395dd4/tensorboard-2.0.1-py3-none-any.whl (3.8MB)\n",
            "\u001b[K     |████████████████████████████████| 3.8MB 51.2MB/s \n",
            "\u001b[?25hRequirement already satisfied: gast==0.2.2 in /usr/local/lib/python3.6/dist-packages (from tensorflow) (0.2.2)\n",
            "Requirement already satisfied: opt-einsum>=2.3.2 in /usr/local/lib/python3.6/dist-packages (from tensorflow) (3.1.0)\n",
            "Requirement already satisfied: wheel>=0.26 in /usr/local/lib/python3.6/dist-packages (from tensorflow) (0.33.6)\n",
            "Requirement already satisfied: protobuf>=3.6.1 in /usr/local/lib/python3.6/dist-packages (from tensorflow) (3.10.0)\n",
            "Requirement already satisfied: wrapt>=1.11.1 in /usr/local/lib/python3.6/dist-packages (from tensorflow) (1.11.2)\n",
            "Requirement already satisfied: keras-applications>=1.0.8 in /usr/local/lib/python3.6/dist-packages (from tensorflow) (1.0.8)\n",
            "Requirement already satisfied: six>=1.10.0 in /usr/local/lib/python3.6/dist-packages (from tensorflow) (1.12.0)\n",
            "Requirement already satisfied: google-pasta>=0.1.6 in /usr/local/lib/python3.6/dist-packages (from tensorflow) (0.1.8)\n",
            "Requirement already satisfied: astor>=0.6.0 in /usr/local/lib/python3.6/dist-packages (from tensorflow) (0.8.0)\n",
            "Collecting tensorflow-estimator<2.1.0,>=2.0.0\n",
            "\u001b[?25l  Downloading https://files.pythonhosted.org/packages/fc/08/8b927337b7019c374719145d1dceba21a8bb909b93b1ad6f8fb7d22c1ca1/tensorflow_estimator-2.0.1-py2.py3-none-any.whl (449kB)\n",
            "\u001b[K     |████████████████████████████████| 450kB 48.8MB/s \n",
            "\u001b[?25hRequirement already satisfied: keras-preprocessing>=1.0.5 in /usr/local/lib/python3.6/dist-packages (from tensorflow) (1.1.0)\n",
            "Requirement already satisfied: termcolor>=1.1.0 in /usr/local/lib/python3.6/dist-packages (from tensorflow) (1.1.0)\n",
            "Requirement already satisfied: numpy<2.0,>=1.16.0 in /usr/local/lib/python3.6/dist-packages (from tensorflow) (1.17.4)\n",
            "Requirement already satisfied: setuptools>=41.0.0 in /usr/local/lib/python3.6/dist-packages (from tensorboard<2.1.0,>=2.0.0->tensorflow) (41.4.0)\n",
            "Requirement already satisfied: google-auth-oauthlib<0.5,>=0.4.1 in /usr/local/lib/python3.6/dist-packages (from tensorboard<2.1.0,>=2.0.0->tensorflow) (0.4.1)\n",
            "Requirement already satisfied: werkzeug>=0.11.15 in /usr/local/lib/python3.6/dist-packages (from tensorboard<2.1.0,>=2.0.0->tensorflow) (0.16.0)\n",
            "Collecting google-auth<2,>=1.6.3\n",
            "\u001b[?25l  Downloading https://files.pythonhosted.org/packages/7b/cb/786dc53d93494784935a62947643b48250b84a882474e714f9af5e1a1928/google_auth-1.7.1-py2.py3-none-any.whl (74kB)\n",
            "\u001b[K     |████████████████████████████████| 81kB 10.3MB/s \n",
            "\u001b[?25hRequirement already satisfied: markdown>=2.6.8 in /usr/local/lib/python3.6/dist-packages (from tensorboard<2.1.0,>=2.0.0->tensorflow) (3.1.1)\n",
            "Requirement already satisfied: h5py in /usr/local/lib/python3.6/dist-packages (from keras-applications>=1.0.8->tensorflow) (2.8.0)\n",
            "Requirement already satisfied: requests-oauthlib>=0.7.0 in /usr/local/lib/python3.6/dist-packages (from google-auth-oauthlib<0.5,>=0.4.1->tensorboard<2.1.0,>=2.0.0->tensorflow) (1.3.0)\n",
            "Requirement already satisfied: pyasn1-modules>=0.2.1 in /usr/local/lib/python3.6/dist-packages (from google-auth<2,>=1.6.3->tensorboard<2.1.0,>=2.0.0->tensorflow) (0.2.7)\n",
            "Requirement already satisfied: rsa<4.1,>=3.1.4 in /usr/local/lib/python3.6/dist-packages (from google-auth<2,>=1.6.3->tensorboard<2.1.0,>=2.0.0->tensorflow) (4.0)\n",
            "Requirement already satisfied: cachetools<3.2,>=2.0.0 in /usr/local/lib/python3.6/dist-packages (from google-auth<2,>=1.6.3->tensorboard<2.1.0,>=2.0.0->tensorflow) (3.1.1)\n",
            "Requirement already satisfied: requests>=2.0.0 in /usr/local/lib/python3.6/dist-packages (from requests-oauthlib>=0.7.0->google-auth-oauthlib<0.5,>=0.4.1->tensorboard<2.1.0,>=2.0.0->tensorflow) (2.21.0)\n",
            "Requirement already satisfied: oauthlib>=3.0.0 in /usr/local/lib/python3.6/dist-packages (from requests-oauthlib>=0.7.0->google-auth-oauthlib<0.5,>=0.4.1->tensorboard<2.1.0,>=2.0.0->tensorflow) (3.1.0)\n",
            "Requirement already satisfied: pyasn1<0.5.0,>=0.4.6 in /usr/local/lib/python3.6/dist-packages (from pyasn1-modules>=0.2.1->google-auth<2,>=1.6.3->tensorboard<2.1.0,>=2.0.0->tensorflow) (0.4.7)\n",
            "Requirement already satisfied: urllib3<1.25,>=1.21.1 in /usr/local/lib/python3.6/dist-packages (from requests>=2.0.0->requests-oauthlib>=0.7.0->google-auth-oauthlib<0.5,>=0.4.1->tensorboard<2.1.0,>=2.0.0->tensorflow) (1.24.3)\n",
            "Requirement already satisfied: idna<2.9,>=2.5 in /usr/local/lib/python3.6/dist-packages (from requests>=2.0.0->requests-oauthlib>=0.7.0->google-auth-oauthlib<0.5,>=0.4.1->tensorboard<2.1.0,>=2.0.0->tensorflow) (2.8)\n",
            "Requirement already satisfied: certifi>=2017.4.17 in /usr/local/lib/python3.6/dist-packages (from requests>=2.0.0->requests-oauthlib>=0.7.0->google-auth-oauthlib<0.5,>=0.4.1->tensorboard<2.1.0,>=2.0.0->tensorflow) (2019.9.11)\n",
            "Requirement already satisfied: chardet<3.1.0,>=3.0.2 in /usr/local/lib/python3.6/dist-packages (from requests>=2.0.0->requests-oauthlib>=0.7.0->google-auth-oauthlib<0.5,>=0.4.1->tensorboard<2.1.0,>=2.0.0->tensorflow) (3.0.4)\n",
            "\u001b[31mERROR: tensorboard 2.0.1 has requirement grpcio>=1.24.3, but you'll have grpcio 1.15.0 which is incompatible.\u001b[0m\n",
            "\u001b[31mERROR: google-colab 1.0.0 has requirement google-auth~=1.4.0, but you'll have google-auth 1.7.1 which is incompatible.\u001b[0m\n",
            "Installing collected packages: google-auth, tensorboard, tensorflow-estimator, tensorflow\n",
            "  Found existing installation: google-auth 1.4.2\n",
            "    Uninstalling google-auth-1.4.2:\n",
            "      Successfully uninstalled google-auth-1.4.2\n",
            "  Found existing installation: tensorboard 1.15.0\n",
            "    Uninstalling tensorboard-1.15.0:\n",
            "      Successfully uninstalled tensorboard-1.15.0\n",
            "  Found existing installation: tensorflow-estimator 1.15.1\n",
            "    Uninstalling tensorflow-estimator-1.15.1:\n",
            "      Successfully uninstalled tensorflow-estimator-1.15.1\n",
            "Successfully installed google-auth-1.7.1 tensorboard-2.0.1 tensorflow-2.0.0 tensorflow-estimator-2.0.1\n"
          ],
          "name": "stdout"
        },
        {
          "output_type": "display_data",
          "data": {
            "application/vnd.colab-display-data+json": {
              "pip_warning": {
                "packages": [
                  "google"
                ]
              }
            }
          },
          "metadata": {
            "tags": []
          }
        }
      ]
    },
    {
      "cell_type": "code",
      "metadata": {
        "id": "qJsD9gG8ymf-",
        "colab_type": "code",
        "colab": {}
      },
      "source": [
        "import numpy as np\n",
        "import tensorflow as tf\n",
        "import matplotlib.pyplot as plt"
      ],
      "execution_count": 0,
      "outputs": []
    },
    {
      "cell_type": "markdown",
      "metadata": {
        "id": "oCA0L7Jzg3ZF",
        "colab_type": "text"
      },
      "source": [
        "Fitting a model consists of 4 steps\n",
        "\n",
        "1.   Defining a model\n",
        "2.   Defining a loss function\n",
        "3.   Obtaining training data\n",
        "4.   Run through the training data and use an 'optimizer' to adjust variables to fit the data\n"
      ]
    },
    {
      "cell_type": "code",
      "metadata": {
        "id": "UGMswygwjfIA",
        "colab_type": "code",
        "colab": {}
      },
      "source": [
        "theta = tf.Variable(tf.zeros(100,1),shape = (100,))#dtype =float32) # Nawid- Initialised the values\n",
        "\n",
        "def p(x):\n",
        "  softmax_outputs = tf.math.softmax(theta)\n",
        "  \n",
        "  probability = tf.gather(softmax_outputs, x) # Nawid - This orders the softmax tensor corresponding to the values in the input tensor\n",
        "  \n",
        "  return probability\n",
        "\n",
        "def nll(inputs): # Nawid - Computes the negative loglikelihood loss\n",
        "  probabilty_values =  p(inputs) # Nawid - Computes all the probability values using tf.gather\n",
        "  return -tf.math.reduce_mean(tf.math.log(probabilty_values)/tf.math.log(2.0)) # Nawid - Computes the negative log-likelihood  and then divides by log(2) to get the answer in bits\n",
        "\n",
        "#def bit_conversion(x):\n",
        "  #bit_value = tf.math.log(x)/tf.math.log(2)\n",
        "  #return bit_value\n",
        "\n"
      ],
      "execution_count": 0,
      "outputs": []
    },
    {
      "cell_type": "code",
      "metadata": {
        "id": "SXb2jTr1ynde",
        "colab_type": "code",
        "colab": {}
      },
      "source": [
        "def sample_data():\n",
        "  count = 10000\n",
        "  rand = np.random.RandomState(0)\n",
        "  a = 0.3 + 0.1 * rand.randn(count)\n",
        "  b = 0.8 + 0.05 * rand.randn(count)\n",
        "  mask = rand.rand(count) < 0.5\n",
        "  samples = np.clip(a * mask + b * (1 - mask), 0.0, 1.0)\n",
        "  return np.digitize(samples, np.linspace(0.0, 1.0, 100))"
      ],
      "execution_count": 0,
      "outputs": []
    },
    {
      "cell_type": "code",
      "metadata": {
        "id": "qcoi6xrnyxwp",
        "colab_type": "code",
        "colab": {}
      },
      "source": [
        "samples = sample_data()\n",
        "train_data = samples[0:7000] # Nawid- Training set\n",
        "#train_set = set(samples)\n",
        "#print(train_set)\n",
        "#print(train_data.shape)\n",
        "val_data = samples[7000:8000] # Nawid - Validation data\n",
        "test_data = samples[8000::] # Nawid - 20 % for test set\n",
        "\n",
        "# Nawid -  Convert the training and the test data into tensors\n",
        "#train_data = tf.convert_to_tensor(train_data) \n",
        "#val_data = tf.convert_to_tensor(test_data)\n",
        "#test_data = tf.convert_to_tensor(test_data)"
      ],
      "execution_count": 0,
      "outputs": []
    },
    {
      "cell_type": "code",
      "metadata": {
        "id": "SNRCWxMG83Ut",
        "colab_type": "code",
        "colab": {}
      },
      "source": [
        "def create_dataset(data,batch_size):\n",
        "  dataset = tf.data.Dataset.from_tensor_slices(data)\n",
        "  #dataset = dataset.repeat()# # Nawid-  Repeats the dataset indefinitely\n",
        "  dataset = dataset.shuffle(10000) # Shuffle the data\n",
        "  dataset = dataset.batch(batch_size) # Create batches of data\n",
        "  dataset = dataset.prefetch(batch_size) # Prefetch data for faster consumption\n",
        "  return dataset\n",
        "  \n"
      ],
      "execution_count": 0,
      "outputs": []
    },
    {
      "cell_type": "markdown",
      "metadata": {
        "id": "TNRnz_gsHJeN",
        "colab_type": "text"
      },
      "source": [
        "# Create dataset"
      ]
    },
    {
      "cell_type": "code",
      "metadata": {
        "id": "1BYexuLVAjVq",
        "colab_type": "code",
        "colab": {}
      },
      "source": [
        "batch_no = 100\n",
        "train_iterator = create_dataset(train_data,batch_no)\n",
        "val_iterator = create_dataset(val_data,batch_no)\n",
        "test_iterator = create_dataset(test_data,batch_no)"
      ],
      "execution_count": 0,
      "outputs": []
    },
    {
      "cell_type": "markdown",
      "metadata": {
        "id": "j_Bz_mqshCcq",
        "colab_type": "text"
      },
      "source": [
        "# Histogram of the data"
      ]
    },
    {
      "cell_type": "code",
      "metadata": {
        "id": "91P7hwk_gI0n",
        "colab_type": "code",
        "outputId": "a634a916-58bf-46bb-d2e2-8aae15b3a5ee",
        "colab": {
          "base_uri": "https://localhost:8080/",
          "height": 265
        }
      },
      "source": [
        "_ = plt.hist(train_data, bins='auto') \n",
        "plt.show()"
      ],
      "execution_count": 134,
      "outputs": [
        {
          "output_type": "display_data",
          "data": {
            "image/png": "[encoded data removed]",
            "text/plain": [
              "<Figure size 432x288 with 1 Axes>"
            ]
          },
          "metadata": {
            "tags": []
          }
        }
      ]
    },
    {
      "cell_type": "markdown",
      "metadata": {
        "id": "Rb6c_qdimeok",
        "colab_type": "text"
      },
      "source": [
        "# Define a training loop"
      ]
    },
    {
      "cell_type": "markdown",
      "metadata": {
        "id": "fynpI3pfmOAo",
        "colab_type": "text"
      },
      "source": [
        "###Calculates the gradient used to optimize the model"
      ]
    },
    {
      "cell_type": "code",
      "metadata": {
        "id": "p3UwfkM0l-Ff",
        "colab_type": "code",
        "colab": {}
      },
      "source": [
        "def grad(inputs):\n",
        "  with tf.GradientTape() as t:\n",
        "    loss_value = nll(inputs)\n",
        "  return loss_value, t.gradient(loss_value, [theta]) #  Nawid - Need to place "
      ],
      "execution_count": 0,
      "outputs": []
    },
    {
      "cell_type": "markdown",
      "metadata": {
        "id": "FbYemkcGmVdn",
        "colab_type": "text"
      },
      "source": [
        "####Create an optimizer"
      ]
    },
    {
      "cell_type": "code",
      "metadata": {
        "id": "NLm_aWwVmLjL",
        "colab_type": "code",
        "colab": {}
      },
      "source": [
        "optimizer = tf.keras.optimizers.Adam()"
      ],
      "execution_count": 0,
      "outputs": []
    },
    {
      "cell_type": "code",
      "metadata": {
        "id": "yMvpDuwYIkvP",
        "colab_type": "code",
        "outputId": "84afb60a-4858-4d07-b6e9-e64768f76806",
        "colab": {
          "base_uri": "https://localhost:8080/",
          "height": 1000
        }
      },
      "source": [
        "train_loss_epoch = []\n",
        "val_loss_epoch =[]\n",
        "\n",
        "index = 0\n",
        "for epoch in range(1,100+1):\n",
        "  train_loss_batch = []\n",
        "  val_loss_batch = []\n",
        "  for x_data in train_iterator: # Nawid - Iterates through all the different batches\n",
        "    loss_train, grads = grad(x_data)\n",
        "    optimizer.apply_gradients(zip(grads, [theta])) # Nawid - Updates the theta values using the gradients and the Adam optimizer\n",
        "    #loss_train_bit = bit_conversion(loss_train)\n",
        "    train_loss_batch.append(loss_train)\n",
        "  mean_train_loss = tf.math.reduce_mean(train_loss_batch)\n",
        "  train_loss_epoch.append(mean_train_loss)\n",
        "    \n",
        "  print('train epoch: %d loss: %.3f' % (epoch, loss_train))\n",
        "  for x_val in val_iterator:\n",
        "    loss_val, _ = grad(x_val)\n",
        "    \n",
        "    val_loss_batch.append(loss_val)\n",
        "    \n",
        "  mean_val_loss = tf.math.reduce_mean(val_loss_batch)\n",
        "  val_loss_epoch.append(mean_val_loss)\n",
        "  \n",
        "\n",
        "  print('val epoch : %d loss: %.3f' %(epoch, loss_val))  "
      ],
      "execution_count": 137,
      "outputs": [
        {
          "output_type": "stream",
          "text": [
            "train epoch: 1 loss: 6.578\n",
            "val epoch : 1 loss: 6.575\n",
            "train epoch: 2 loss: 6.509\n",
            "val epoch : 2 loss: 6.510\n",
            "train epoch: 3 loss: 6.455\n",
            "val epoch : 3 loss: 6.478\n",
            "train epoch: 4 loss: 6.403\n",
            "val epoch : 4 loss: 6.415\n",
            "train epoch: 5 loss: 6.350\n",
            "val epoch : 5 loss: 6.319\n",
            "train epoch: 6 loss: 6.336\n",
            "val epoch : 6 loss: 6.334\n",
            "train epoch: 7 loss: 6.250\n",
            "val epoch : 7 loss: 6.286\n",
            "train epoch: 8 loss: 6.263\n",
            "val epoch : 8 loss: 6.234\n",
            "train epoch: 9 loss: 6.177\n",
            "val epoch : 9 loss: 6.195\n",
            "train epoch: 10 loss: 6.196\n",
            "val epoch : 10 loss: 6.189\n",
            "train epoch: 11 loss: 6.140\n",
            "val epoch : 11 loss: 6.142\n",
            "train epoch: 12 loss: 6.183\n",
            "val epoch : 12 loss: 6.149\n",
            "train epoch: 13 loss: 6.122\n",
            "val epoch : 13 loss: 6.136\n",
            "train epoch: 14 loss: 6.102\n",
            "val epoch : 14 loss: 5.974\n",
            "train epoch: 15 loss: 6.097\n",
            "val epoch : 15 loss: 5.981\n",
            "train epoch: 16 loss: 6.052\n",
            "val epoch : 16 loss: 6.005\n",
            "train epoch: 17 loss: 6.149\n",
            "val epoch : 17 loss: 6.037\n",
            "train epoch: 18 loss: 5.920\n",
            "val epoch : 18 loss: 5.959\n",
            "train epoch: 19 loss: 5.994\n",
            "val epoch : 19 loss: 6.042\n",
            "train epoch: 20 loss: 5.982\n",
            "val epoch : 20 loss: 6.016\n",
            "train epoch: 21 loss: 5.899\n",
            "val epoch : 21 loss: 5.954\n",
            "train epoch: 22 loss: 5.927\n",
            "val epoch : 22 loss: 5.987\n",
            "train epoch: 23 loss: 5.862\n",
            "val epoch : 23 loss: 5.883\n",
            "train epoch: 24 loss: 5.850\n",
            "val epoch : 24 loss: 6.076\n",
            "train epoch: 25 loss: 5.870\n",
            "val epoch : 25 loss: 6.039\n",
            "train epoch: 26 loss: 6.026\n",
            "val epoch : 26 loss: 5.737\n",
            "train epoch: 27 loss: 5.982\n",
            "val epoch : 27 loss: 5.921\n",
            "train epoch: 28 loss: 5.933\n",
            "val epoch : 28 loss: 5.821\n",
            "train epoch: 29 loss: 5.777\n",
            "val epoch : 29 loss: 5.826\n",
            "train epoch: 30 loss: 5.876\n",
            "val epoch : 30 loss: 5.984\n",
            "train epoch: 31 loss: 5.878\n",
            "val epoch : 31 loss: 5.922\n",
            "train epoch: 32 loss: 5.834\n",
            "val epoch : 32 loss: 5.881\n",
            "train epoch: 33 loss: 5.828\n",
            "val epoch : 33 loss: 5.833\n",
            "train epoch: 34 loss: 5.874\n",
            "val epoch : 34 loss: 5.905\n",
            "train epoch: 35 loss: 5.976\n",
            "val epoch : 35 loss: 5.757\n",
            "train epoch: 36 loss: 5.825\n",
            "val epoch : 36 loss: 6.019\n",
            "train epoch: 37 loss: 5.781\n",
            "val epoch : 37 loss: 6.010\n",
            "train epoch: 38 loss: 5.894\n",
            "val epoch : 38 loss: 5.811\n",
            "train epoch: 39 loss: 5.916\n",
            "val epoch : 39 loss: 5.771\n",
            "train epoch: 40 loss: 5.942\n",
            "val epoch : 40 loss: 5.853\n",
            "train epoch: 41 loss: 5.819\n",
            "val epoch : 41 loss: 5.911\n",
            "train epoch: 42 loss: 5.894\n",
            "val epoch : 42 loss: 5.837\n",
            "train epoch: 43 loss: 5.820\n",
            "val epoch : 43 loss: 5.866\n",
            "train epoch: 44 loss: 5.924\n",
            "val epoch : 44 loss: 5.936\n",
            "train epoch: 45 loss: 5.790\n",
            "val epoch : 45 loss: 5.795\n",
            "train epoch: 46 loss: 5.803\n",
            "val epoch : 46 loss: 5.692\n",
            "train epoch: 47 loss: 5.820\n",
            "val epoch : 47 loss: 5.633\n",
            "train epoch: 48 loss: 5.860\n",
            "val epoch : 48 loss: 5.860\n",
            "train epoch: 49 loss: 5.818\n",
            "val epoch : 49 loss: 5.917\n",
            "train epoch: 50 loss: 5.771\n",
            "val epoch : 50 loss: 5.641\n",
            "train epoch: 51 loss: 5.725\n",
            "val epoch : 51 loss: 5.827\n",
            "train epoch: 52 loss: 5.830\n",
            "val epoch : 52 loss: 5.852\n",
            "train epoch: 53 loss: 5.745\n",
            "val epoch : 53 loss: 6.010\n",
            "train epoch: 54 loss: 5.830\n",
            "val epoch : 54 loss: 5.793\n",
            "train epoch: 55 loss: 5.777\n",
            "val epoch : 55 loss: 5.837\n",
            "train epoch: 56 loss: 5.972\n",
            "val epoch : 56 loss: 5.723\n",
            "train epoch: 57 loss: 5.745\n",
            "val epoch : 57 loss: 5.921\n",
            "train epoch: 58 loss: 5.851\n",
            "val epoch : 58 loss: 5.738\n",
            "train epoch: 59 loss: 5.939\n",
            "val epoch : 59 loss: 5.762\n",
            "train epoch: 60 loss: 5.928\n",
            "val epoch : 60 loss: 5.858\n",
            "train epoch: 61 loss: 5.823\n",
            "val epoch : 61 loss: 5.970\n",
            "train epoch: 62 loss: 5.753\n",
            "val epoch : 62 loss: 5.943\n",
            "train epoch: 63 loss: 5.605\n",
            "val epoch : 63 loss: 5.893\n",
            "train epoch: 64 loss: 5.688\n",
            "val epoch : 64 loss: 5.844\n",
            "train epoch: 65 loss: 5.670\n",
            "val epoch : 65 loss: 5.902\n",
            "train epoch: 66 loss: 5.800\n",
            "val epoch : 66 loss: 5.756\n",
            "train epoch: 67 loss: 5.837\n",
            "val epoch : 67 loss: 6.035\n",
            "train epoch: 68 loss: 5.641\n",
            "val epoch : 68 loss: 5.537\n",
            "train epoch: 69 loss: 5.724\n",
            "val epoch : 69 loss: 5.772\n",
            "train epoch: 70 loss: 5.823\n",
            "val epoch : 70 loss: 5.808\n",
            "train epoch: 71 loss: 5.672\n",
            "val epoch : 71 loss: 5.953\n",
            "train epoch: 72 loss: 5.805\n",
            "val epoch : 72 loss: 5.913\n",
            "train epoch: 73 loss: 5.690\n",
            "val epoch : 73 loss: 5.808\n",
            "train epoch: 74 loss: 5.780\n",
            "val epoch : 74 loss: 5.997\n",
            "train epoch: 75 loss: 5.750\n",
            "val epoch : 75 loss: 5.757\n",
            "train epoch: 76 loss: 5.905\n",
            "val epoch : 76 loss: 5.757\n",
            "train epoch: 77 loss: 5.925\n",
            "val epoch : 77 loss: 5.932\n",
            "train epoch: 78 loss: 5.788\n",
            "val epoch : 78 loss: 6.056\n",
            "train epoch: 79 loss: 6.075\n",
            "val epoch : 79 loss: 5.935\n",
            "train epoch: 80 loss: 5.953\n",
            "val epoch : 80 loss: 5.980\n",
            "train epoch: 81 loss: 5.883\n",
            "val epoch : 81 loss: 5.980\n",
            "train epoch: 82 loss: 5.830\n",
            "val epoch : 82 loss: 5.764\n",
            "train epoch: 83 loss: 5.874\n",
            "val epoch : 83 loss: 5.797\n",
            "train epoch: 84 loss: 5.719\n",
            "val epoch : 84 loss: 5.925\n",
            "train epoch: 85 loss: 5.972\n",
            "val epoch : 85 loss: 5.805\n",
            "train epoch: 86 loss: 5.835\n",
            "val epoch : 86 loss: 5.809\n",
            "train epoch: 87 loss: 5.703\n",
            "val epoch : 87 loss: 5.786\n",
            "train epoch: 88 loss: 5.764\n",
            "val epoch : 88 loss: 5.995\n",
            "train epoch: 89 loss: 5.835\n",
            "val epoch : 89 loss: 5.820\n",
            "train epoch: 90 loss: 5.769\n",
            "val epoch : 90 loss: 5.816\n",
            "train epoch: 91 loss: 5.763\n",
            "val epoch : 91 loss: 6.013\n",
            "train epoch: 92 loss: 5.719\n",
            "val epoch : 92 loss: 5.967\n",
            "train epoch: 93 loss: 5.955\n",
            "val epoch : 93 loss: 5.767\n",
            "train epoch: 94 loss: 5.760\n",
            "val epoch : 94 loss: 6.109\n",
            "train epoch: 95 loss: 5.733\n",
            "val epoch : 95 loss: 5.699\n",
            "train epoch: 96 loss: 5.834\n",
            "val epoch : 96 loss: 5.864\n",
            "train epoch: 97 loss: 5.777\n",
            "val epoch : 97 loss: 5.749\n",
            "train epoch: 98 loss: 5.848\n",
            "val epoch : 98 loss: 5.912\n",
            "train epoch: 99 loss: 5.682\n",
            "val epoch : 99 loss: 5.760\n",
            "train epoch: 100 loss: 5.799\n",
            "val epoch : 100 loss: 6.030\n"
          ],
          "name": "stdout"
        }
      ]
    },
    {
      "cell_type": "markdown",
      "metadata": {
        "id": "LueyOS7Sq46s",
        "colab_type": "text"
      },
      "source": [
        "Repeatedly run through the training data and see how theta changes"
      ]
    },
    {
      "cell_type": "code",
      "metadata": {
        "id": "5LyillNm2BqQ",
        "colab_type": "code",
        "colab": {
          "base_uri": "https://localhost:8080/",
          "height": 558
        },
        "outputId": "5a0b4c25-052c-4ad4-f6fb-97bbb469fb70"
      },
      "source": [
        "fig, axes = plt.subplots(2, sharex=True, figsize=(12, 8))\n",
        "fig.suptitle('Training Metrics')\n",
        "\n",
        "axes[0].set_ylabel(\"Train Loss\", fontsize=14)\n",
        "axes[0].plot(train_loss_epoch)\n",
        "\n",
        "axes[1].set_ylabel(\"Validation loss\", fontsize=14)\n",
        "axes[1].set_xlabel(\"Epoch\", fontsize=14)\n",
        "axes[1].plot(val_loss_epoch)\n",
        "plt.show()"
      ],
      "execution_count": 138,
      "outputs": [
        {
          "output_type": "display_data",
          "data": {
            "image/png": "[encoded data removed]",
            "text/plain": [
              "<Figure size 864x576 with 2 Axes>"
            ]
          },
          "metadata": {
            "tags": []
          }
        }
      ]
    },
    {
      "cell_type": "code",
      "metadata": {
        "id": "LcYWNHb62Po8",
        "colab_type": "code",
        "colab": {
          "base_uri": "https://localhost:8080/",
          "height": 34
        },
        "outputId": "5ba3cd32-56c8-4954-f536-5017d4c290ff"
      },
      "source": [
        "print(p(1))"
      ],
      "execution_count": 75,
      "outputs": [
        {
          "output_type": "stream",
          "text": [
            "tf.Tensor(0.00070789637, shape=(), dtype=float32)\n"
          ],
          "name": "stdout"
        }
      ]
    },
    {
      "cell_type": "code",
      "metadata": {
        "id": "tLJ7nkB-AmsU",
        "colab_type": "code",
        "colab": {
          "base_uri": "https://localhost:8080/",
          "height": 476
        },
        "outputId": "4aa03c4c-2f7c-404c-e5e1-34dd092f3303"
      },
      "source": [
        "x_values = np.arange(0,100)\n",
        "#print(x_values)\n",
        "print(p(x_values))\n",
        "#numpy.random.choice(numpy.arange(1, 7), p=[0.1, 0.05, 0.05, 0.2, 0.4, 0.2])\n",
        "\n",
        "\n",
        "#ax.set(xlim=(1, 100), ylim=(0, 1))\n"
      ],
      "execution_count": 107,
      "outputs": [
        {
          "output_type": "stream",
          "text": [
            "tf.Tensor(\n",
            "[0.01 0.01 0.01 0.01 0.01 0.01 0.01 0.01 0.01 0.01 0.01 0.01 0.01 0.01\n",
            " 0.01 0.01 0.01 0.01 0.01 0.01 0.01 0.01 0.01 0.01 0.01 0.01 0.01 0.01\n",
            " 0.01 0.01 0.01 0.01 0.01 0.01 0.01 0.01 0.01 0.01 0.01 0.01 0.01 0.01\n",
            " 0.01 0.01 0.01 0.01 0.01 0.01 0.01 0.01 0.01 0.01 0.01 0.01 0.01 0.01\n",
            " 0.01 0.01 0.01 0.01 0.01 0.01 0.01 0.01 0.01 0.01 0.01 0.01 0.01 0.01\n",
            " 0.01 0.01 0.01 0.01 0.01 0.01 0.01 0.01 0.01 0.01 0.01 0.01 0.01 0.01\n",
            " 0.01 0.01 0.01 0.01 0.01 0.01 0.01 0.01 0.01 0.01 0.01 0.01 0.01 0.01\n",
            " 0.01 0.01], shape=(100,), dtype=float32)\n",
            "tf.Tensor(\n",
            "[0.01 0.01 0.01 0.01 0.01 0.01 0.01 0.01 0.01 0.01 0.01 0.01 0.01 0.01\n",
            " 0.01 0.01 0.01 0.01 0.01 0.01 0.01 0.01 0.01 0.01 0.01 0.01 0.01 0.01\n",
            " 0.01 0.01 0.01 0.01 0.01 0.01 0.01 0.01 0.01 0.01 0.01 0.01 0.01 0.01\n",
            " 0.01 0.01 0.01 0.01 0.01 0.01 0.01 0.01 0.01 0.01 0.01 0.01 0.01 0.01\n",
            " 0.01 0.01 0.01 0.01 0.01 0.01 0.01 0.01 0.01 0.01 0.01 0.01 0.01 0.01\n",
            " 0.01 0.01 0.01 0.01 0.01 0.01 0.01 0.01 0.01 0.01 0.01 0.01 0.01 0.01\n",
            " 0.01 0.01 0.01 0.01 0.01 0.01 0.01 0.01 0.01 0.01 0.01 0.01 0.01 0.01\n",
            " 0.01 0.01], shape=(100,), dtype=float32)\n",
            "tf.Tensor(\n",
            "[0.01 0.01 0.01 0.01 0.01 0.01 0.01 0.01 0.01 0.01 0.01 0.01 0.01 0.01\n",
            " 0.01 0.01 0.01 0.01 0.01 0.01 0.01 0.01 0.01 0.01 0.01 0.01 0.01 0.01\n",
            " 0.01 0.01 0.01 0.01 0.01 0.01 0.01 0.01 0.01 0.01 0.01 0.01 0.01 0.01\n",
            " 0.01 0.01 0.01 0.01 0.01 0.01 0.01 0.01 0.01 0.01 0.01 0.01 0.01 0.01\n",
            " 0.01 0.01 0.01 0.01 0.01 0.01 0.01 0.01 0.01 0.01 0.01 0.01 0.01 0.01\n",
            " 0.01 0.01 0.01 0.01 0.01 0.01 0.01 0.01 0.01 0.01 0.01 0.01 0.01 0.01\n",
            " 0.01 0.01 0.01 0.01 0.01 0.01 0.01 0.01 0.01 0.01 0.01 0.01 0.01 0.01\n",
            " 0.01 0.01], shape=(100,), dtype=float32)\n"
          ],
          "name": "stdout"
        }
      ]
    },
    {
      "cell_type": "code",
      "metadata": {
        "id": "y3k0qdqtCUED",
        "colab_type": "code",
        "colab": {
          "base_uri": "https://localhost:8080/",
          "height": 766
        },
        "outputId": "4408f0bb-9e37-44c8-a210-b3ce173787ae"
      },
      "source": [
        "plt.figure(figsize=(8, 5), dpi= 80)\n",
        "x = np.arange(0,100) # Nawid - All the different indices present\n",
        "prob_ = p(x) \n",
        "\n",
        "plt.bar(x, prob_)\n",
        "plt.xlabel('x')\n",
        "plt.ylabel('Probability')\n",
        "plt.title('Model probabilities')\n",
        "#ax = plt.gca() # Nawid - This is used to specify the axis object\n",
        "#ax.set(xlim=(1, 100), ylim=(0, 1)) # Nawid - This is used to specify the limits of the axis\n",
        "plt.show()\n",
        "\n",
        "print(tf.keras.backend.sum(prob_,axis=-1)) # Nawid - Used to ensure probability adds to 1\n",
        "y = np.random.choice(100, size=(1000,), p=prob_)\n",
        "\n",
        "plt.figure(figsize=(8, 5), dpi= 80)\n",
        "'''\n",
        "plt.xlabel('x')\n",
        "plt.ylabel('Frequency')\n",
        "plt.title('Empirical frequencies')\n",
        "_ = plt.hist(y, bins='auto') \n",
        "'''\n",
        "a, b = np.histogram(y, bins=np.arange(1,101))\n",
        "z = np.arange(1,100)\n",
        "plt.bar(z, a / np.sum(a))\n",
        "plt.xlabel('x')\n",
        "plt.ylabel('Probability')\n",
        "_ = plt.title('Empirical frequencies')\n"
      ],
      "execution_count": 150,
      "outputs": [
        {
          "output_type": "display_data",
          "data": {
            "image/png": "[encoded data removed]",
            "text/plain": [
              "<Figure size 640x400 with 1 Axes>"
            ]
          },
          "metadata": {
            "tags": []
          }
        },
        {
          "output_type": "stream",
          "text": [
            "tf.Tensor(1.0, shape=(), dtype=float32)\n"
          ],
          "name": "stdout"
        },
        {
          "output_type": "display_data",
          "data": {
            "image/png": "[encoded data removed]",
            "text/plain": [
              "<Figure size 640x400 with 1 Axes>"
            ]
          },
          "metadata": {
            "tags": []
          }
        }
      ]
    }
  ]
}